{
 "cells": [
  {
   "cell_type": "markdown",
   "metadata": {},
   "source": [
    "## Bayesian AB Testing\n",
    "https://github.com/CamDavidsonPilon/Probabilistic-Programming-and-Bayesian-Methods-for-Hackers"
   ]
  },
  {
   "cell_type": "code",
   "execution_count": 1,
   "metadata": {},
   "outputs": [
    {
     "name": "stderr",
     "output_type": "stream",
     "text": [
      "/Users/sh-tatsuno/.pyenv/versions/anaconda3-4.4.0/lib/python3.6/importlib/_bootstrap.py:205: RuntimeWarning: numpy.dtype size changed, may indicate binary incompatibility. Expected 96, got 88\n",
      "  return f(*args, **kwds)\n"
     ]
    },
    {
     "name": "stdout",
     "output_type": "stream",
     "text": [
      "Running on PyMC3 v3.5\n"
     ]
    }
   ],
   "source": [
    "%matplotlib inline\n",
    "import numpy as np\n",
    "import pymc3 as pm\n",
    "import pandas as pd\n",
    "import scipy.stats as stats\n",
    "import matplotlib.pyplot as plt\n",
    "plt.style.use('seaborn-darkgrid')\n",
    "print('Running on PyMC3 v{}'.format(pm.__version__))"
   ]
  },
  {
   "cell_type": "markdown",
   "metadata": {},
   "source": [
    "### コイン投げの確率分布"
   ]
  },
  {
   "cell_type": "code",
   "execution_count": 2,
   "metadata": {
    "collapsed": true
   },
   "outputs": [],
   "source": [
    "# 事前分布の設定\n",
    "with pm.Model() as model:\n",
    "    p = pm.Uniform('p', lower=0, upper=1)"
   ]
  },
  {
   "cell_type": "code",
   "execution_count": 3,
   "metadata": {},
   "outputs": [
    {
     "name": "stdout",
     "output_type": "stream",
     "text": [
      "[0 0 0 ... 0 1 0]\n",
      "79\n"
     ]
    }
   ],
   "source": [
    "# 真の値\n",
    "p_true = 0.05  # 本来は不明\n",
    "N = 1500\n",
    "\n",
    "# ベルヌーイ分布： Ber(0.05)\n",
    "occurrences = stats.bernoulli.rvs(p_true, size=N)\n",
    "\n",
    "#  Python treats True == 1, and False == 0\n",
    "print(occurrences) \n",
    "print(np.sum(occurrences))"
   ]
  },
  {
   "cell_type": "code",
   "execution_count": 4,
   "metadata": {},
   "outputs": [
    {
     "name": "stdout",
     "output_type": "stream",
     "text": [
      "What is the observed frequency in Group A? 0.0527\n",
      "Does this equal the true frequency? False\n"
     ]
    }
   ],
   "source": [
    "#  サンプリングした集団は真の確率とは一致していない\n",
    "print(\"What is the observed frequency in Group A? %.4f\" % np.mean(occurrences))\n",
    "print(\"Does this equal the true frequency? %s\" % (np.mean(occurrences) == p_true))"
   ]
  },
  {
   "cell_type": "code",
   "execution_count": 5,
   "metadata": {},
   "outputs": [
    {
     "name": "stderr",
     "output_type": "stream",
     "text": [
      "Multiprocess sampling (2 chains in 2 jobs)\n",
      "Metropolis: [p]\n",
      "Sampling 2 chains: 100%|██████████| 37000/37000 [00:04<00:00, 7796.66draws/s]\n",
      "The number of effective samples is smaller than 25% for some parameters.\n"
     ]
    }
   ],
   "source": [
    "#  ベルヌーイ分布からサンプリング\n",
    "with model:\n",
    "    obs = pm.Bernoulli(\"obs\", p, observed=occurrences)\n",
    "    \n",
    "    # メトロポリス法\n",
    "    step = pm.Metropolis()\n",
    "    trace = pm.sample(18000, step=step)\n",
    "    burned_trace = trace[1000:]"
   ]
  },
  {
   "cell_type": "code",
   "execution_count": 6,
   "metadata": {},
   "outputs": [
    {
     "name": "stderr",
     "output_type": "stream",
     "text": [
      "/Users/sh-tatsuno/.pyenv/versions/anaconda3-4.4.0/lib/python3.6/site-packages/matplotlib/axes/_axes.py:6462: UserWarning: The 'normed' kwarg is deprecated, and has been replaced by the 'density' kwarg.\n",
      "  warnings.warn(\"The 'normed' kwarg is deprecated, and has been \"\n"
     ]
    },
    {
     "data": {
      "image/png": "[encoded data removed]",
      "text/plain": [
       "<Figure size 900x288 with 1 Axes>"
      ]
     },
     "metadata": {},
     "output_type": "display_data"
    }
   ],
   "source": [
    "# 真の分布とは異なる\n",
    "plt.figure(figsize=(12.5, 4))\n",
    "plt.title(\"Posterior distribution of $p_A$, the true effectiveness of site A\")\n",
    "plt.vlines(p_true, 0, 90, linestyle=\"--\", label=\"true $p_A$ (unknown)\")\n",
    "plt.hist(burned_trace[\"p\"], bins=25, histtype=\"stepfilled\", normed=True)\n",
    "plt.legend()\n",
    "plt.show()"
   ]
  },
  {
   "cell_type": "code",
   "execution_count": 7,
   "metadata": {},
   "outputs": [
    {
     "name": "stderr",
     "output_type": "stream",
     "text": [
      "Multiprocess sampling (2 chains in 2 jobs)\n",
      "Metropolis: [p]\n",
      "Sampling 2 chains: 100%|██████████| 37000/37000 [00:05<00:00, 6561.06draws/s]\n",
      "The number of effective samples is smaller than 10% for some parameters.\n",
      "/Users/sh-tatsuno/.pyenv/versions/anaconda3-4.4.0/lib/python3.6/site-packages/matplotlib/axes/_axes.py:6462: UserWarning: The 'normed' kwarg is deprecated, and has been replaced by the 'density' kwarg.\n",
      "  warnings.warn(\"The 'normed' kwarg is deprecated, and has been \"\n"
     ]
    },
    {
     "data": {
      "image/png": "[encoded data removed]",
      "text/plain": [
       "<Figure size 900x288 with 1 Axes>"
      ]
     },
     "metadata": {},
     "output_type": "display_data"
    }
   ],
   "source": [
    "# よりサンプリングの数を増やしてみる\n",
    "p_true = 0.05 \n",
    "N = 10000 # 1500 -> 10000\n",
    "occurrences = stats.bernoulli.rvs(p_true, size=N)\n",
    "\n",
    "with pm.Model() as model:\n",
    "    p = pm.Uniform('p', lower=0, upper=1)\n",
    "    obs = pm.Bernoulli(\"obs\", p, observed=occurrences)\n",
    "    \n",
    "    step = pm.Metropolis()\n",
    "    trace = pm.sample(18000, step=step)\n",
    "    burned_trace2 = trace[1000:]\n",
    "    \n",
    "# 真の分布とは異なるが、Nを増やすことで真の分布に近づく\n",
    "plt.figure(figsize=(12.5, 4))\n",
    "plt.title(\"Posterior distribution of $p_A$, the true effectiveness of site A\")\n",
    "plt.vlines(p_true, 0, 90, linestyle=\"--\", label=\"true $p_A$ (unknown)\")\n",
    "plt.hist(burned_trace[\"p\"], bins=25, histtype=\"stepfilled\", normed=True)\n",
    "plt.hist(burned_trace2[\"p\"], bins=25, histtype=\"stepfilled\", normed=True, alpha=0.5)\n",
    "plt.legend()\n",
    "plt.show()"
   ]
  },
  {
   "cell_type": "code",
   "execution_count": null,
   "metadata": {
    "collapsed": true
   },
   "outputs": [],
   "source": []
  },
  {
   "cell_type": "markdown",
   "metadata": {},
   "source": [
    "### A, Bの群を分けることができるか"
   ]
  },
  {
   "cell_type": "code",
   "execution_count": 8,
   "metadata": {},
   "outputs": [
    {
     "name": "stdout",
     "output_type": "stream",
     "text": [
      "Obs from Site A:  [0 0 0 0 0 0 0 1 0 0 0 0 0 0 0 0 0 0 0 0 0 0 0 0 0 0 0 0 0 0] ...\n",
      "Obs from Site B:  [0 0 0 0 0 0 0 0 0 0 0 0 0 0 0 0 0 0 0 0 0 0 0 0 0 1 0 0 0 0] ...\n"
     ]
    }
   ],
   "source": [
    "# 真の値は実際は不明\n",
    "true_p_A = 0.05\n",
    "true_p_B = 0.04\n",
    "\n",
    "# サンプル数\n",
    "N_A = 1500\n",
    "N_B = 750\n",
    "\n",
    "#　ベルヌーイ分布からサンプリング\n",
    "observations_A = stats.bernoulli.rvs(true_p_A, size=N_A)\n",
    "observations_B = stats.bernoulli.rvs(true_p_B, size=N_B)\n",
    "print(\"Obs from Site A: \", observations_A[:30], \"...\")\n",
    "print(\"Obs from Site B: \", observations_B[:30], \"...\")"
   ]
  },
  {
   "cell_type": "code",
   "execution_count": 9,
   "metadata": {},
   "outputs": [
    {
     "name": "stdout",
     "output_type": "stream",
     "text": [
      "0.04066666666666666\n",
      "0.03333333333333333\n"
     ]
    }
   ],
   "source": [
    "# 平均での比較\n",
    "print(np.mean(observations_A))\n",
    "print(np.mean(observations_B))"
   ]
  },
  {
   "cell_type": "code",
   "execution_count": 10,
   "metadata": {},
   "outputs": [
    {
     "name": "stderr",
     "output_type": "stream",
     "text": [
      "Multiprocess sampling (2 chains in 2 jobs)\n",
      "CompoundStep\n",
      ">Metropolis: [p_B]\n",
      ">Metropolis: [p_A]\n",
      "Sampling 2 chains: 100%|██████████| 41000/41000 [00:08<00:00, 4748.98draws/s]\n",
      "The number of effective samples is smaller than 25% for some parameters.\n"
     ]
    }
   ],
   "source": [
    "# Set up the pymc3 model. Again assume Uniform priors for p_A and p_B.\n",
    "with pm.Model() as model:\n",
    "    p_A = pm.Uniform(\"p_A\", 0, 1)\n",
    "    p_B = pm.Uniform(\"p_B\", 0, 1)\n",
    "    \n",
    "    # Define the deterministic delta function. This is our unknown of interest.\n",
    "    # 差の分布の推定\n",
    "    delta = pm.Deterministic(\"delta\", p_A - p_B)\n",
    "\n",
    "    \n",
    "    # Set of observations, in this case we have two observation datasets.\n",
    "    obs_A = pm.Bernoulli(\"obs_A\", p_A, observed=observations_A)\n",
    "    obs_B = pm.Bernoulli(\"obs_B\", p_B, observed=observations_B)\n",
    "\n",
    "    step = pm.Metropolis()\n",
    "    trace = pm.sample(20000, step=step)\n",
    "    burned_trace=trace[1000:] # 最初の部分は捨てる"
   ]
  },
  {
   "cell_type": "code",
   "execution_count": 11,
   "metadata": {
    "collapsed": true
   },
   "outputs": [],
   "source": [
    "p_A_samples = burned_trace[\"p_A\"]\n",
    "p_B_samples = burned_trace[\"p_B\"]\n",
    "delta_samples = burned_trace[\"delta\"]"
   ]
  },
  {
   "cell_type": "code",
   "execution_count": 12,
   "metadata": {
    "scrolled": false
   },
   "outputs": [
    {
     "name": "stderr",
     "output_type": "stream",
     "text": [
      "/Users/sh-tatsuno/.pyenv/versions/anaconda3-4.4.0/lib/python3.6/site-packages/matplotlib/axes/_axes.py:6462: UserWarning: The 'normed' kwarg is deprecated, and has been replaced by the 'density' kwarg.\n",
      "  warnings.warn(\"The 'normed' kwarg is deprecated, and has been \"\n"
     ]
    },
    {
     "data": {
      "image/png": "[encoded data removed]",
      "text/plain": [
       "<Figure size 900x720 with 3 Axes>"
      ]
     },
     "metadata": {},
     "output_type": "display_data"
    }
   ],
   "source": [
    "plt.figure(figsize=(12.5, 10))\n",
    "\n",
    "#  ヒストグラム\n",
    "ax = plt.subplot(311)\n",
    "\n",
    "plt.xlim(0, .1)\n",
    "plt.hist(p_A_samples, histtype='stepfilled', bins=25, alpha=0.85,\n",
    "         label=\"posterior of $p_A$\", color=\"#A60628\", normed=True)\n",
    "plt.vlines(true_p_A, 0, 80, linestyle=\"--\", label=\"true $p_A$ (unknown)\")\n",
    "plt.legend(loc=\"upper right\")\n",
    "plt.title(\"Posterior distributions of $p_A$, $p_B$, and delta unknowns\")\n",
    "\n",
    "ax = plt.subplot(312)\n",
    "\n",
    "plt.xlim(0, .1)\n",
    "plt.hist(p_B_samples, histtype='stepfilled', bins=25, alpha=0.85,\n",
    "         label=\"posterior of $p_B$\", color=\"#467821\", normed=True)\n",
    "plt.vlines(true_p_B, 0, 80, linestyle=\"--\", label=\"true $p_B$ (unknown)\")\n",
    "plt.legend(loc=\"upper right\")\n",
    "\n",
    "ax = plt.subplot(313)\n",
    "plt.hist(delta_samples, histtype='stepfilled', bins=30, alpha=0.85,\n",
    "         label=\"posterior of delta\", color=\"#7A68A6\", normed=True)\n",
    "plt.vlines(true_p_A - true_p_B, 0, 60, linestyle=\"--\",\n",
    "           label=\"true delta (unknown)\")\n",
    "plt.vlines(0, 0, 60, color=\"black\", alpha=0.2)\n",
    "plt.legend(loc=\"upper right\");"
   ]
  },
  {
   "cell_type": "code",
   "execution_count": 13,
   "metadata": {},
   "outputs": [
    {
     "name": "stdout",
     "output_type": "stream",
     "text": [
      "Probability site A is WORSE than site B: 0.210\n",
      "Probability site A is BETTER than site B: 0.790\n"
     ]
    }
   ],
   "source": [
    "print(\"Probability site A is WORSE than site B: %.3f\" % \\\n",
    "    np.mean(delta_samples < 0))\n",
    "\n",
    "print(\"Probability site A is BETTER than site B: %.3f\" % \\\n",
    "    np.mean(delta_samples > 0))"
   ]
  },
  {
   "cell_type": "code",
   "execution_count": null,
   "metadata": {
    "collapsed": true
   },
   "outputs": [],
   "source": []
  },
  {
   "cell_type": "markdown",
   "metadata": {},
   "source": [
    "### to function"
   ]
  },
  {
   "cell_type": "markdown",
   "metadata": {},
   "source": [
    "ベータ分布B(1,1)は一様分布U(0,1)に等しい  \n",
    "事前分布でN回投げてX回成功していたとするとこの時の事後分布は  \n",
    "B(1+X, 1+(N-X))\n",
    "に従う"
   ]
  },
  {
   "cell_type": "markdown",
   "metadata": {},
   "source": [
    "## CVなどの0-1ABテスト"
   ]
  },
  {
   "cell_type": "code",
   "execution_count": 76,
   "metadata": {},
   "outputs": [],
   "source": [
    "def BayesABtesting(observations_A, observations_B):\n",
    "\n",
    "    # Set up the pymc3 model. Again assume Uniform priors for p_A and p_B.\n",
    "    with pm.Model() as model:\n",
    "        p_A = pm.Uniform(\"p_A\", 0, 1)\n",
    "        p_B = pm.Uniform(\"p_B\", 0, 1)\n",
    "\n",
    "        # Define the deterministic delta function. This is our unknown of interest.\n",
    "        # 差の分布の推定\n",
    "        delta = pm.Deterministic(\"delta\", p_A - p_B)\n",
    "\n",
    "\n",
    "        # Set of observations, in this case we have two observation datasets.\n",
    "        obs_A = pm.Bernoulli(\"obs_A\", p_A, observed=observations_A)\n",
    "        obs_B = pm.Bernoulli(\"obs_B\", p_B, observed=observations_B)\n",
    "\n",
    "        step = pm.Metropolis()\n",
    "        trace = pm.sample(20000, step=step)\n",
    "        burned_trace=trace[1000:] # 最初の部分は捨てる\n",
    "\n",
    "    p_A_samples = burned_trace[\"p_A\"]\n",
    "    p_B_samples = burned_trace[\"p_B\"]\n",
    "    delta_samples = burned_trace[\"delta\"]\n",
    "\n",
    "    plt.figure(figsize=(12.5, 10))\n",
    "\n",
    "    #  ヒストグラム\n",
    "    ax = plt.subplot(211)\n",
    "\n",
    "    plt.xlim(0, .1)\n",
    "    plt.hist(p_A_samples, histtype='stepfilled', bins=25, alpha=0.85,\n",
    "             label=\"posterior of $p_A$\", color=\"#A60628\", normed=True)\n",
    "    plt.hist(p_B_samples, histtype='stepfilled', bins=25, alpha=0.85,\n",
    "             label=\"posterior of $p_B$\", color=\"#467821\", normed=True)\n",
    "    plt.legend(loc=\"upper right\")\n",
    "    plt.title(\"Posterior distributions of $p_A$, $p_B$, and delta unknowns\")\n",
    "\n",
    "    ax = plt.subplot(212)\n",
    "    plt.hist(delta_samples, histtype='stepfilled', bins=30, alpha=0.85,\n",
    "             label=\"posterior of delta\", color=\"#7A68A6\", normed=True)\n",
    "    plt.vlines(0, 0, 60, color=\"black\", alpha=0.2)\n",
    "    plt.legend(loc=\"upper right\");\n",
    "    plt.show()\n",
    "    \n",
    "    print(\"Probability site A is WORSE than site B: %.3f\" % \\\n",
    "    np.mean(delta_samples < 0))\n",
    "\n",
    "    print(\"Probability site A is BETTER than site B: %.3f\" % \\\n",
    "        np.mean(delta_samples > 0))"
   ]
  },
  {
   "cell_type": "code",
   "execution_count": 55,
   "metadata": {
    "scrolled": false
   },
   "outputs": [
    {
     "name": "stderr",
     "output_type": "stream",
     "text": [
      "Multiprocess sampling (2 chains in 2 jobs)\n",
      "CompoundStep\n",
      ">Metropolis: [p_B]\n",
      ">Metropolis: [p_A]\n",
      "Sampling 2 chains: 100%|██████████| 41000/41000 [00:13<00:00, 3147.83draws/s]\n",
      "The number of effective samples is smaller than 10% for some parameters.\n",
      "/Users/sh-tatsuno/.pyenv/versions/anaconda3-4.4.0/lib/python3.6/site-packages/matplotlib/axes/_axes.py:6462: UserWarning: The 'normed' kwarg is deprecated, and has been replaced by the 'density' kwarg.\n",
      "  warnings.warn(\"The 'normed' kwarg is deprecated, and has been \"\n"
     ]
    },
    {
     "data": {
      "image/png": "[encoded data removed]",
      "text/plain": [
       "<Figure size 900x720 with 2 Axes>"
      ]
     },
     "metadata": {},
     "output_type": "display_data"
    },
    {
     "name": "stdout",
     "output_type": "stream",
     "text": [
      "Probability site A is WORSE than site B: 0.005\n",
      "Probability site A is BETTER than site B: 0.995\n"
     ]
    }
   ],
   "source": [
    "# 真の値は実際は不明\n",
    "true_p_A = 0.050\n",
    "true_p_B = 0.047\n",
    "\n",
    "# サンプル数\n",
    "N_A = 15000\n",
    "N_B = 15000\n",
    "\n",
    "#　ベルヌーイ分布からサンプリング\n",
    "np.random.seed(40)\n",
    "observations_A = stats.bernoulli.rvs(true_p_A, size=N_A)\n",
    "observations_B = stats.bernoulli.rvs(true_p_B, size=N_B)\n",
    "\n",
    "BayesABtesting(observations_A, observations_B)"
   ]
  },
  {
   "cell_type": "markdown",
   "metadata": {},
   "source": [
    "## 滞在時間などのポアソン分布で比較する"
   ]
  },
  {
   "cell_type": "code",
   "execution_count": 77,
   "metadata": {
    "collapsed": true
   },
   "outputs": [],
   "source": [
    "def BayesABtestingPoisson(observations_A, observations_B):\n",
    "\n",
    "    # Set up the pymc3 model. Again assume Uniform priors for p_A and p_B.\n",
    "    with pm.Model() as model:\n",
    "        p_A = pm.Uniform(\"p_A\", 0, 10e5)\n",
    "        p_B = pm.Uniform(\"p_B\", 0, 10e5)\n",
    "\n",
    "        # Define the deterministic delta function. This is our unknown of interest.\n",
    "        # 差の分布の推定\n",
    "        delta = pm.Deterministic(\"delta\", p_A - p_B)\n",
    "\n",
    "\n",
    "        # Set of observations, in this case we have two observation datasets.\n",
    "        obs_A = pm.Poisson(\"obs_A\", p_A, observed=observations_A)\n",
    "        obs_B = pm.Poisson(\"obs_B\", p_B, observed=observations_B)\n",
    "\n",
    "        step = pm.Metropolis()\n",
    "        trace = pm.sample(20000, step=step)\n",
    "        burned_trace=trace[1000:] # 最初の部分は捨てる\n",
    "\n",
    "    p_A_samples = burned_trace[\"p_A\"]\n",
    "    p_B_samples = burned_trace[\"p_B\"]\n",
    "    delta_samples = burned_trace[\"delta\"]\n",
    "\n",
    "    plt.figure(figsize=(12.5, 10))\n",
    "\n",
    "    #  ヒストグラム\n",
    "    ax = plt.subplot(211)\n",
    "\n",
    "    plt.hist(p_A_samples, histtype='stepfilled', bins=25, alpha=0.85,\n",
    "             label=\"posterior of $p_A$\", color=\"#A60628\", normed=True)\n",
    "    plt.hist(p_B_samples, histtype='stepfilled', bins=25, alpha=0.85,\n",
    "             label=\"posterior of $p_B$\", color=\"#467821\", normed=True)\n",
    "    plt.legend(loc=\"upper right\")\n",
    "    plt.title(\"Posterior distributions of $p_A$, $p_B$, and delta unknowns\")\n",
    "\n",
    "    ax = plt.subplot(212)\n",
    "    plt.hist(delta_samples, histtype='stepfilled', bins=30, alpha=0.85,\n",
    "             label=\"posterior of delta\", color=\"#7A68A6\", normed=True)\n",
    "    plt.vlines(0, 0, 60, color=\"black\", alpha=0.2)\n",
    "    plt.legend(loc=\"upper right\");\n",
    "    plt.show()\n",
    "    \n",
    "    print(\"Probability site A is WORSE than site B: %.3f\" % \\\n",
    "    np.mean(delta_samples < 0))\n",
    "\n",
    "    print(\"Probability site A is BETTER than site B: %.3f\" % \\\n",
    "        np.mean(delta_samples > 0))"
   ]
  },
  {
   "cell_type": "code",
   "execution_count": 84,
   "metadata": {},
   "outputs": [
    {
     "name": "stderr",
     "output_type": "stream",
     "text": [
      "Multiprocess sampling (2 chains in 2 jobs)\n",
      "CompoundStep\n",
      ">Metropolis: [p_B]\n",
      ">Metropolis: [p_A]\n",
      "Sampling 2 chains: 100%|██████████| 41000/41000 [00:07<00:00, 5419.35draws/s]\n",
      "The number of effective samples is smaller than 10% for some parameters.\n",
      "/Users/sh-tatsuno/.pyenv/versions/anaconda3-4.4.0/lib/python3.6/site-packages/matplotlib/axes/_axes.py:6462: UserWarning: The 'normed' kwarg is deprecated, and has been replaced by the 'density' kwarg.\n",
      "  warnings.warn(\"The 'normed' kwarg is deprecated, and has been \"\n"
     ]
    },
    {
     "data": {
      "image/png": "[encoded data removed]",
      "text/plain": [
       "<Figure size 900x720 with 2 Axes>"
      ]
     },
     "metadata": {},
     "output_type": "display_data"
    },
    {
     "name": "stdout",
     "output_type": "stream",
     "text": [
      "Probability site A is WORSE than site B: 0.022\n",
      "Probability site A is BETTER than site B: 0.978\n"
     ]
    }
   ],
   "source": [
    "# 真の値は実際は不明\n",
    "true_A = 10.2\n",
    "true_B = 10\n",
    "\n",
    "# サンプル数\n",
    "N_A = 1500\n",
    "N_B = 1500\n",
    "\n",
    "#　ベルヌーイ分布からサンプリング\n",
    "np.random.seed(40)\n",
    "observations_A = stats.poisson.rvs(true_A, size=N_A)\n",
    "observations_B = stats.poisson.rvs(true_B, size=N_B)\n",
    "\n",
    "BayesABtestingPoisson(observations_A, observations_B)"
   ]
  }
 ],
 "metadata": {
  "kernelspec": {
   "display_name": "Python 3",
   "language": "python",
   "name": "python3"
  },
  "language_info": {
   "codemirror_mode": {
    "name": "ipython",
    "version": 3
   },
   "file_extension": ".py",
   "mimetype": "text/x-python",
   "name": "python",
   "nbconvert_exporter": "python",
   "pygments_lexer": "ipython3",
   "version": "3.6.1"
  }
 },
 "nbformat": 4,
 "nbformat_minor": 2
}
